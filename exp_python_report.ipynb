{
  "nbformat": 4,
  "nbformat_minor": 0,
  "metadata": {
    "colab": {
      "name": "exp_python_report.ipynb",
      "provenance": [],
      "collapsed_sections": []
    },
    "kernelspec": {
      "name": "python3",
      "display_name": "Python 3"
    }
  },
  "cells": [
    {
      "cell_type": "markdown",
      "metadata": {
        "id": "B6SEtGKpcxQ6",
        "colab_type": "text"
      },
      "source": [
        "# 機械システム工学実験　テーマK　レポート課題\n"
      ]
    },
    {
      "cell_type": "markdown",
      "metadata": {
        "id": "8ByXf8Mf70J8",
        "colab_type": "text"
      },
      "source": [
        "<font color=\"red\">\n",
        "（TODO） 以下の伏せ字（X）を各自で変更せよ．変更したらこの赤字の記述を削除せよ．\n",
        "</font>\n",
        "\n",
        "- 実験日（第1週）: 202X年X月X日\n",
        "- レポート提出日: 202X年X月X日\n",
        "- 実験班: X班\n",
        "- 学籍番号: XXXXXXX\n",
        "- 氏名: XXX XXX"
      ]
    },
    {
      "cell_type": "markdown",
      "metadata": {
        "id": "KKj9dopomDDT",
        "colab_type": "text"
      },
      "source": [
        "## 課題1\n",
        "\n",
        "![Fig: A Damped Mass-Spring System](https://docs.google.com/uc?export=download&id=1SFmcz7mazpg0EOf495VloC_wlQ5X3Md8)\n",
        "\n",
        "図に示す台車とバネ，ダンパの自由振動系の運動方程式を導出して，式（1）の$f(x(t), v(t))$を求めよ．ただし，台車の質量を$m$, バネ定数を$k$, 粘性係数を$c$，台車の位置$x(t)=0$をバネの自然長とすること．空気抵抗や床との摩擦はゼロとする．\n",
        "\n",
        "$$\n",
        "\\begin{cases}\n",
        " \\frac{dx(t)}{dt} = v(t), \\\\\n",
        " \\frac{dv(t)}{dt} = f(x(t), v(t))\n",
        "\\end{cases}\n",
        "\\tag{1}\n",
        "$$\n",
        "\n",
        "解答は．次の解答用セルに記入すること．数式の入力方法は [Jupyter Notebook で数式を美しく書く](https://qiita.com/namoshika/items/63db972bfd1030f8264a) などを参考にせよ．"
      ]
    },
    {
      "cell_type": "markdown",
      "metadata": {
        "id": "18vQXgfhmcc4",
        "colab_type": "text"
      },
      "source": [
        "【解答用セル1】\n",
        "\n",
        "$$\n",
        "f(x(t), v(t)) =\n",
        "$$"
      ]
    },
    {
      "cell_type": "markdown",
      "metadata": {
        "id": "WcmBDCWQszXd",
        "colab_type": "text"
      },
      "source": [
        "## 課題2\n",
        "\n",
        "4次のルンゲ・クッタ法を用いて，課題1で導出した運動方程式の数値解を求めるプログラムを【解答用セル2-1】に作成せよ．また，その実行結果を次の2つのグラフで表示せよ．\n",
        "\n",
        "- グラフ1: 横軸を時刻$t_i$，縦軸を質点の位置$x_i$\n",
        "  - このグラフを出力するコードは【解答用セル2-2】に入力すること\n",
        "  - x軸, y軸のラベルを書くこと\n",
        "- グラフ2: 横軸を時刻$t_i$，縦軸を質点の速度$v_i$\n",
        "  - このグラフを出力するコードは【解答用セル2-3】に入力すること\n",
        "  - x軸，y軸のラベルを書くこと\n",
        "\n",
        "ただし，条件は次のとおりとする．\n",
        "\n",
        "- 初期条件:\n",
        "  - 質点の初期位置: $x(0) = 1.0$\n",
        "  - 質点の初期速度: $v(0) = 0$\n",
        "- 系のパラメータ：\n",
        "  - 質量$m$，バネ定数$k$，粘性係数$c$は適当な正の数とせよ．\n",
        "\n",
        "### ヒント\n",
        "  - 以下のセルには`exp_python3.ipynb`で学習したルンゲ・クッタ法のプログラムが入力済みである．この一部を改造すればよい．\n",
        "  - `exp_python3.ipynb`で学習したプログラムと，ここで求められているプログラムでは，対象とする系，すなわち$f$のみが異なる．\n",
        "  - 課題1で$f$は導出済みのはずである．\n",
        "  - $f$の計算に必要な質量$m$，バネ定数$k$，粘性係数$c$を新たに定義することを忘れないこと．\n"
      ]
    },
    {
      "cell_type": "code",
      "metadata": {
        "id": "PPp0ZNZ7DYhy",
        "colab_type": "code",
        "colab": {}
      },
      "source": [
        "# 必要なライブラリのインポート\n",
        "import numpy as np\n",
        "from matplotlib import pyplot as plt"
      ],
      "execution_count": 0,
      "outputs": []
    },
    {
      "cell_type": "code",
      "metadata": {
        "id": "P9Wxr47ttMEn",
        "colab_type": "code",
        "colab": {}
      },
      "source": [
        "# 【解答用セル2-1】\n",
        "\n",
        "# 関数定義\n",
        "def f(x, v):\n",
        "  return -x # dv/dt = f(x, y) = -x の実装\n",
        "\n",
        "# 計算条件を変数として定義\n",
        "x = 1.0 # xの初期値\n",
        "v = 0 # yの初期値\n",
        "t_ini = 0 # 初期時刻\n",
        "h = 0.2 # 積分刻み\n",
        "t_max = 10 + h # 終了時刻\n",
        "\n",
        "# 結果保存用の配列定義\n",
        "ts = np.arange(start=t_ini, stop=t_max, step=h) # tの時系列\n",
        "xs = np.zeros(len(ts)) # xの時系列\n",
        "vs = np.zeros(len(ts)) # yの時系列\n",
        "\n",
        "# 初期値の代入\n",
        "xs[0] = x\n",
        "vs[0] = v\n",
        "\n",
        "# ルンゲクッタ法\n",
        "for i in range(1, len(ts)): # i=1 から i=len(ts) までループ\n",
        "  kx1 = v\n",
        "  kv1 = f(x, v)\n",
        "  kx2 = v + h * kv1 / 2.0\n",
        "  kv2 = f(x + h * kx1 / 2.0, v + h * kv1 / 2.0)\n",
        "  kx3 = v + h * kv2 / 2.0\n",
        "  kv3 = f(x + h * kx2 / 2.0, v + h * kv2 / 2.0)\n",
        "  kx4 = v + h * kv3\n",
        "  kv4 = f(x + h * kx3, v + h * kv3)\n",
        "  # v, xの更新\n",
        "  v += (kv1 + 2.0 * kv2 + 2.0 * kv3 + kv4) * h / 6.0\n",
        "  x += (kx1 + 2.0 * kx2 + 2.0 * kx3 + kx4) * h / 6.0\n",
        "  # 結果の保存\n",
        "  xs[i] = x \n",
        "  vs[i] = v"
      ],
      "execution_count": 0,
      "outputs": []
    },
    {
      "cell_type": "code",
      "metadata": {
        "id": "c5nNnBbHyeXb",
        "colab_type": "code",
        "colab": {}
      },
      "source": [
        "# 【解答用セル2-2】"
      ],
      "execution_count": 0,
      "outputs": []
    },
    {
      "cell_type": "code",
      "metadata": {
        "id": "SvUguHWcy9l6",
        "colab_type": "code",
        "colab": {}
      },
      "source": [
        "# 【解答用セル2-3】"
      ],
      "execution_count": 0,
      "outputs": []
    },
    {
      "cell_type": "markdown",
      "metadata": {
        "id": "q4fXQYp_pDIX",
        "colab_type": "text"
      },
      "source": [
        "## 課題3\n",
        "\n",
        "グラフ1とグラフ2の結果を読み解き，シミュレーションされた台車の挙動を説明せよ．解答は【解答用セル3】に記入すること．\n",
        "\n",
        "> ヒント\n",
        ">\n",
        "> 質点の初期位置，初期速度や運動の特徴的な点に着目し，質点がどのように動いたのかを読者にわかるように説明すること．\n",
        "> また，この系は自由振動系であり，その挙動は[機械力学の教科書](http://edu.katzlab.jp/lec/mdyn/files/mdyn2017text.pdf)のp.123，表13.1のとおりに分類できる．\n",
        "> その分類と，今回の結果を関連付け，「〇〇であるから〇〇振動であることがわかる」のように説明すること．"
      ]
    },
    {
      "cell_type": "markdown",
      "metadata": {
        "id": "9rwWRuW3P5BZ",
        "colab_type": "text"
      },
      "source": [
        "【解答用セル3】\n",
        "\n"
      ]
    },
    {
      "cell_type": "markdown",
      "metadata": {
        "id": "OG9MNsChQDsT",
        "colab_type": "text"
      },
      "source": [
        "## 課題4\n",
        "\n",
        "【解答用セル4-1】に，数値解析で用いたパラメータ（$m$, $k$, $c$）から系の固有値を算出するPythonプログラムを作成し，算出結果を示せ．\n",
        "\n",
        "【解答用セル4-2】に，算出結果と課題3のシミュレーション結果を比較して考察せよ．\n",
        "\n",
        "> ヒント\n",
        ">\n",
        "> 自由振動系では，その固有値から運動が理論的に分類できる（忘れた場合は[機械力学の教科書](http://edu.katzlab.jp/lec/mdyn/files/mdyn2017text.pdf)のp.123あたりを読むこと）．\n",
        "> 理論的な分類と比較したとき，今回のシミュレーション結果は妥当といえるかを考察すること．"
      ]
    },
    {
      "cell_type": "code",
      "metadata": {
        "colab_type": "code",
        "id": "s31OCs34Rdx9",
        "colab": {}
      },
      "source": [
        "# 【解答用セル4-1】\n"
      ],
      "execution_count": 0,
      "outputs": []
    },
    {
      "cell_type": "markdown",
      "metadata": {
        "colab_type": "text",
        "id": "6n0Iw4B5RimK"
      },
      "source": [
        "【解答用セル4-2】\n"
      ]
    }
  ]
}