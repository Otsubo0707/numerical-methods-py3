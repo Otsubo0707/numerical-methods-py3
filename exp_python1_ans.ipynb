{
  "nbformat": 4,
  "nbformat_minor": 0,
  "metadata": {
    "colab": {
      "name": "exp_python1_ans.ipynb",
      "provenance": [],
      "collapsed_sections": []
    },
    "kernelspec": {
      "name": "python3",
      "display_name": "Python 3"
    }
  },
  "cells": [
    {
      "cell_type": "markdown",
      "metadata": {
        "id": "k7dmqToD0jME",
        "colab_type": "text"
      },
      "source": [
        "# プログラム例による理解度の確認\n",
        "\n",
        "ここまで学習してきた内容を用いて，次の課題をやってみよう．\n",
        "\n",
        "<font color=\"red\">\n",
        "（TODO）$y=x^3$の概形をグラフに書け．ただし，$x$の範囲は[-3, 3]とし，刻みは0.2とする．\n",
        "</font>\n"
      ]
    },
    {
      "cell_type": "code",
      "metadata": {
        "id": "FJukGKghBYip",
        "colab_type": "code",
        "colab": {}
      },
      "source": [
        "import numpy as np  # これにより，以降のセルでは`np`と書くことでnumpyの機能が使える．\n",
        "from matplotlib import pyplot as plt # グラフ描写に用いるpyplotというライブラリを読み込む"
      ],
      "execution_count": 0,
      "outputs": []
    },
    {
      "cell_type": "code",
      "metadata": {
        "id": "1h3Q5LZl2ASI",
        "colab_type": "code",
        "colab": {
          "base_uri": "https://localhost:8080/",
          "height": 282
        },
        "outputId": "acb81396-855b-4f73-f661-d9184523f7eb"
      },
      "source": [
        "# 解答例1，関数を定義して，逐次代入する方法（レポート課題ではこちらの方法を基にします）\n",
        "\n",
        "def f(x): # 入力xに対して，x^3を計算する関数\n",
        "  return x * x * x # 参考までに，3乗は xs ** 3 でもよい．\n",
        "\n",
        "xs = np.arange(start=-3, stop=3.1, step=0.1) # \n",
        "ys = np.zeros(len(xs))\n",
        "for i in range(len(xs)):\n",
        "  ys[i] = f(xs[i])\n",
        "\n",
        "plt.plot(xs, ys, 'b.')"
      ],
      "execution_count": 2,
      "outputs": [
        {
          "output_type": "execute_result",
          "data": {
            "text/plain": [
              "[<matplotlib.lines.Line2D at 0x7f92b6e36d30>]"
            ]
          },
          "metadata": {
            "tags": []
          },
          "execution_count": 2
        },
        {
          "output_type": "display_data",
          "data": {
            "image/png": "[encoded data removed]",
            "text/plain": [
              "<Figure size 432x288 with 1 Axes>"
            ]
          },
          "metadata": {
            "tags": [],
            "needs_background": "light"
          }
        }
      ]
    },
    {
      "cell_type": "code",
      "metadata": {
        "id": "y97Yv__M1I62",
        "colab_type": "code",
        "colab": {
          "base_uri": "https://localhost:8080/",
          "height": 282
        },
        "outputId": "70b5efb1-54ba-49e9-c16a-daa157386b85"
      },
      "source": [
        "# 解答例2, numpyを用いて求める方法\n",
        "\n",
        "xs = np.arange(start=-3, stop=3.1, step=0.1)\n",
        "ys = xs * xs * xs # 参考までに，3乗は xs ** 3 でもよい．\n",
        "\n",
        "plt.plot(xs, ys, 'b.') # '-r'はオプションで，plot xs and ys using red line を意味する．"
      ],
      "execution_count": 3,
      "outputs": [
        {
          "output_type": "execute_result",
          "data": {
            "text/plain": [
              "[<matplotlib.lines.Line2D at 0x7f92b6dd8da0>]"
            ]
          },
          "metadata": {
            "tags": []
          },
          "execution_count": 3
        },
        {
          "output_type": "display_data",
          "data": {
            "image/png": "[encoded data removed]",
            "text/plain": [
              "<Figure size 432x288 with 1 Axes>"
            ]
          },
          "metadata": {
            "tags": [],
            "needs_background": "light"
          }
        }
      ]
    },
    {
      "cell_type": "code",
      "metadata": {
        "id": "QgYqFRB_Bne6",
        "colab_type": "code",
        "colab": {}
      },
      "source": [
        ""
      ],
      "execution_count": 0,
      "outputs": []
    }
  ]
}