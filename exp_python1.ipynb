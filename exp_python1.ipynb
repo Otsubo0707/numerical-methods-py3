{
  "nbformat": 4,
  "nbformat_minor": 0,
  "metadata": {
    "colab": {
      "name": "exp_python1.ipynb",
      "provenance": [],
      "collapsed_sections": []
    },
    "kernelspec": {
      "name": "python3",
      "display_name": "Python 3"
    }
  },
  "cells": [
    {
      "cell_type": "markdown",
      "metadata": {
        "id": "H7RSb306XOfi",
        "colab_type": "text"
      },
      "source": [
        "# Pythonによる力学シミュレーション\n",
        "\n",
        "* コンテンツ（基礎）\n",
        "  - PythonとGoogle Colaboratoryについて\n",
        "  - コマンドの実行\n",
        "  - 変数\n",
        "  - 演算\n",
        "  - グラフ表示\n",
        "  - 関数\n",
        "* コンテンツ（応用）\n",
        "  - オイラー法による力学シミュレーション\n",
        "  - ルンゲクッタ法による力学シミュレーション\n",
        "  - ODEライブラリ？"
      ]
    },
    {
      "cell_type": "markdown",
      "metadata": {
        "id": "zJXQZAmWYW8P",
        "colab_type": "text"
      },
      "source": [
        "# PythonとGoogle Colaboratoryについて\n",
        "\n",
        "本実験では，プログラミング言語にPythonを，実行環境にGoogle Colaboratoryを使用する．\n",
        "\n",
        "- Pythonとは\n",
        "  - プログラミング言語の1つで，現在，広く利用されている．\n",
        "- Google Colaboratoryとは\n",
        "  - ブラウザ上で Python を記述して実行できるツール．\n",
        "    - 具体的には，まずブラウザで表示されるノートブック（今開いているこのページが1つのノートブックである）を作成し，そこにPythonの記述と実行を行う．\n",
        "    - プログラムの他に，テキストも入力できる\n",
        "  - 以下の制約はあるが，基本的に無料で利用できる．\n",
        "    - 連続使用は12時間まで．\n",
        "    - ノートブックを長時間（90分程度）操作しないと，自動的に切断される．\n",
        "  - （注意）上記の制約のため，一時中断するときはノートブックを保存すること（画面左上の`ファイル` -> `保存`）．保存先はGoogle Driveとなる．\n",
        "\n"
      ]
    },
    {
      "cell_type": "markdown",
      "metadata": {
        "id": "chbh6raXlkBw",
        "colab_type": "text"
      },
      "source": [
        "# 実験の進め方\n",
        "\n",
        "本実験では，Google Colaboratoryのノートブックを使って進めていく．\n",
        "ノートブックは，複数のセルから構成されている．\n",
        "セルには，文字を入力するための｀テキストセル｀，Pythonのコードを入力するための｀コードセル｀がある．\n",
        "\n",
        "この実験では，まずセルに書かれている説明を読んだ後，小課題をこなしていくことで，内容の理解を深めてほしい．小課題を順番にクリアしていくことで，最後のレポート課題が解けるはずだ．"
      ]
    },
    {
      "cell_type": "markdown",
      "metadata": {
        "id": "qjGqfnXvXG_K",
        "colab_type": "text"
      },
      "source": [
        "# 四則演算\n",
        "\n",
        "Pythonコードの入力と実行は，次の手順で行う．\n",
        "\n",
        "1. ノートブック中に`コードセル`を追加\n",
        "  - ブラウザ左上にある「+ コード」をクリック\n",
        "  - 画像\n",
        "2. セルにプログラムを記述\n",
        "  - セルをクリックすることで入力可能な状態になる\n",
        "  - 画像\n",
        "3. セルを実行する\n",
        "  - セルの左端にある「▷（再生ボタン）」をクリック\n",
        "  - 画像\n",
        "\n",
        "ここでは，例として，既にPythonコードを入力したセルを用意した．以下のセルを実行してみよう．"
      ]
    },
    {
      "cell_type": "code",
      "metadata": {
        "id": "vT29vdIWvfkC",
        "colab_type": "code",
        "outputId": "487152da-78d2-4e04-cbb8-71015fdb6bd1",
        "colab": {
          "base_uri": "https://localhost:8080/",
          "height": 85
        }
      },
      "source": [
        "# ここはコメント．Pythonは#記号以降の文字を無視する．\n",
        " \n",
        "# 四則演算をして，その結果を`print()`で表示する\n",
        "print(1 + 5) # 和\n",
        "print(1 - 5) # 差\n",
        "print(1 * 5) # 積\n",
        "print(1 / 5) # 商"
      ],
      "execution_count": 0,
      "outputs": [
        {
          "output_type": "stream",
          "text": [
            "6\n",
            "-4\n",
            "5\n",
            "0.2\n"
          ],
          "name": "stdout"
        }
      ]
    },
    {
      "cell_type": "markdown",
      "metadata": {
        "id": "CKPnQL2qjwOL",
        "colab_type": "text"
      },
      "source": [
        "### 課題1-1\n",
        "\n",
        "- このセルの次に，新しいコードセルを追加せよ．\n",
        "- そのセルに，自分の学籍番号に含まれる数字を，全て足し合わせ，その結果を表示するコードを入力・実行せよ．\n",
        "- 例）学籍番号が`123456A`ならば，`print(1 + 2 + 3 + 4 + 5 + 6)`"
      ]
    },
    {
      "cell_type": "markdown",
      "metadata": {
        "id": "3pWMxGGVXDYR",
        "colab_type": "text"
      },
      "source": [
        "# 変数\n",
        "\n",
        "`x`や`y`などのアルファベットを使って，変数を定義できる．\n",
        "変数には数値や文字列などを代入できる．\n",
        "ここでは変数を使った計算ができることを確認しよう．"
      ]
    },
    {
      "cell_type": "code",
      "metadata": {
        "id": "6GwKGXLxguCn",
        "colab_type": "code",
        "outputId": "48cfaa1c-926c-499c-cbf3-6358d6041d4a",
        "colab": {
          "base_uri": "https://localhost:8080/",
          "height": 34
        }
      },
      "source": [
        "x = 10 # `x`という変数を定義し，10を代入する．\n",
        "print(x)"
      ],
      "execution_count": 0,
      "outputs": [
        {
          "output_type": "stream",
          "text": [
            "10\n"
          ],
          "name": "stdout"
        }
      ]
    },
    {
      "cell_type": "code",
      "metadata": {
        "id": "TDsLHUmThCJZ",
        "colab_type": "code",
        "outputId": "ed37f8fd-3aa7-481d-87e8-4165fcdfd0e3",
        "colab": {
          "base_uri": "https://localhost:8080/",
          "height": 34
        }
      },
      "source": [
        "y = 3.14 # 新たな変数を定義\n",
        "print(y * x) # 変数を使って計算する．ここで，`変数x`は上のセルで既に定義済みであることに注意"
      ],
      "execution_count": 0,
      "outputs": [
        {
          "output_type": "stream",
          "text": [
            "31.400000000000002\n"
          ],
          "name": "stdout"
        }
      ]
    },
    {
      "cell_type": "markdown",
      "metadata": {
        "id": "0-WMfyDN5TGs",
        "colab_type": "text"
      },
      "source": [
        "このように定義した変数は，同一のnotebookでいつでも参照できる．参照するには，変数のみをセルに書いて実行する"
      ]
    },
    {
      "cell_type": "code",
      "metadata": {
        "id": "iGLiA9rQc6_s",
        "colab_type": "code",
        "colab": {}
      },
      "source": [
        "x # 別のセルで定義した変数を参照できる"
      ],
      "execution_count": 0,
      "outputs": []
    },
    {
      "cell_type": "markdown",
      "metadata": {
        "id": "Z8j__7mLc8Vf",
        "colab_type": "text"
      },
      "source": [
        "か，`print()`を使う"
      ]
    },
    {
      "cell_type": "code",
      "metadata": {
        "id": "8vSerwni5fWh",
        "colab_type": "code",
        "outputId": "d84802cb-0ebe-42c1-8a74-db4875a55be4",
        "colab": {
          "base_uri": "https://localhost:8080/",
          "height": 164
        }
      },
      "source": [
        "print(x) # 別のセルで定義した変数を参照できる"
      ],
      "execution_count": 0,
      "outputs": [
        {
          "output_type": "error",
          "ename": "NameError",
          "evalue": "ignored",
          "traceback": [
            "\u001b[0;31m---------------------------------------------------------------------------\u001b[0m",
            "\u001b[0;31mNameError\u001b[0m                                 Traceback (most recent call last)",
            "\u001b[0;32m<ipython-input-1-f415c3163ebf>\u001b[0m in \u001b[0;36m<module>\u001b[0;34m()\u001b[0m\n\u001b[0;32m----> 1\u001b[0;31m \u001b[0mprint\u001b[0m\u001b[0;34m(\u001b[0m\u001b[0mx\u001b[0m\u001b[0;34m)\u001b[0m \u001b[0;31m# 別のセルで定義した変数を参照できる\u001b[0m\u001b[0;34m\u001b[0m\u001b[0;34m\u001b[0m\u001b[0m\n\u001b[0m",
            "\u001b[0;31mNameError\u001b[0m: name 'x' is not defined"
          ]
        }
      ]
    },
    {
      "cell_type": "markdown",
      "metadata": {
        "id": "_U2pE4c4iBpb",
        "colab_type": "text"
      },
      "source": [
        "# Numpy 配列\n",
        "\n",
        "プログラミングでは，複数の要素（値）の集合を管理したいことがある．これを実現するデータ構造を配列と呼ぶ．Pythonには，配列を実現する方法はいくつかあるが，本実験では，`Numpy 配列`を用いる．基本的な使い方は以下の通り．"
      ]
    },
    {
      "cell_type": "code",
      "metadata": {
        "id": "2wMT0l0Kzp9r",
        "colab_type": "code",
        "colab": {}
      },
      "source": [
        "# まず，Numpy配列を用いるためにライブラリを読み込む．\n",
        "import numpy as np  # これにより，以降のセルでは`np`と書くことでnumpyの機能が使える．"
      ],
      "execution_count": 0,
      "outputs": []
    },
    {
      "cell_type": "code",
      "metadata": {
        "id": "2Bm1OrsHN9RY",
        "colab_type": "code",
        "outputId": "fa4e9158-4a54-4d81-8b4f-da05c01a5690",
        "colab": {
          "base_uri": "https://localhost:8080/",
          "height": 34
        }
      },
      "source": [
        "# 次に，配列を定義する．\n",
        "# ここでは，ゼロの要素が5個の配列を定義する\n",
        "xs = np.zeros(5)\n",
        "print(xs)"
      ],
      "execution_count": 0,
      "outputs": [
        {
          "output_type": "stream",
          "text": [
            "[0. 0. 0. 0. 0.]\n"
          ],
          "name": "stdout"
        }
      ]
    },
    {
      "cell_type": "code",
      "metadata": {
        "id": "W2cEHijoz9zu",
        "colab_type": "code",
        "outputId": "ee9dc49e-a63b-4000-ac8c-18cbccccd745",
        "colab": {
          "base_uri": "https://localhost:8080/",
          "height": 34
        }
      },
      "source": [
        "# 定義したNumpy配列へ値を代入する\n",
        "# 代入するときは，0からはじまる配列の要素番号を指定し，`=`で値を代入する\n",
        "xs[0] = 10 # 配列の先頭に代入\n",
        "xs[1] = 20 # 2番目の要素に代入\n",
        "xs[2] = 30 # 3番目の要素に代入\n",
        "print(xs)"
      ],
      "execution_count": 0,
      "outputs": [
        {
          "output_type": "stream",
          "text": [
            "[10. 20. 30.  0.  0.]\n"
          ],
          "name": "stdout"
        }
      ]
    },
    {
      "cell_type": "code",
      "metadata": {
        "id": "eMbk5Jn4PFy_",
        "colab_type": "code",
        "outputId": "1600cbb4-a460-43cc-f64d-85d802997fef",
        "colab": {
          "base_uri": "https://localhost:8080/",
          "height": 34
        }
      },
      "source": [
        "# 配列の値の呼び出し\n",
        "# 配列の要素を呼び出したい場合は，`配列名[要素番号]`とする\n",
        "print(xs[2])"
      ],
      "execution_count": 0,
      "outputs": [
        {
          "output_type": "stream",
          "text": [
            "30.0\n"
          ],
          "name": "stdout"
        }
      ]
    },
    {
      "cell_type": "markdown",
      "metadata": {
        "id": "uu8mpruxhxV6",
        "colab_type": "text"
      },
      "source": [
        "Numpy配列を定義するとき，ゼロ以外の要素を代入することもできる．\n",
        "数値計算でよく用いるのは，初期値，値の刻み幅，最終値から配列を作成することだ．これは，次のように記述できる．"
      ]
    },
    {
      "cell_type": "code",
      "metadata": {
        "id": "tHwjz-rkiOaQ",
        "colab_type": "code",
        "outputId": "f96c1f75-ae93-4829-e2b9-105425d96e54",
        "colab": {
          "base_uri": "https://localhost:8080/",
          "height": 34
        }
      },
      "source": [
        "ts = np.arange(start=10, stop=15, step=0.5) # 初期値10, 最終値15, 刻み幅0.5の数列\n",
        "print(ts)"
      ],
      "execution_count": 0,
      "outputs": [
        {
          "output_type": "stream",
          "text": [
            "[10.  10.5 11.  11.5 12.  12.5 13.  13.5 14.  14.5]\n"
          ],
          "name": "stdout"
        }
      ]
    },
    {
      "cell_type": "markdown",
      "metadata": {
        "id": "pUSRi1JVhh-B",
        "colab_type": "text"
      },
      "source": [
        "# for文\n",
        "\n",
        "何かの処理を繰り返すとき，for文を用いる．\n",
        "\n",
        "例えば，「0から`n`まで，1刻みの数字を表示する」という処理を考えよう．\n",
        "このとき，\n",
        "```\n",
        "print(0)\n",
        "print(1)\n",
        "...(略)...\n",
        "print(n)\n",
        "```\n",
        "と書くのは大変だが，for文を使えば以下のように書ける．"
      ]
    },
    {
      "cell_type": "code",
      "metadata": {
        "id": "mR4Dvrfhh5ck",
        "colab_type": "code",
        "outputId": "c13a4fff-f395-4ac8-87ca-efa0feeefc98",
        "colab": {
          "base_uri": "https://localhost:8080/",
          "height": 204
        }
      },
      "source": [
        "# 0からnまでの数字を表示するプログラム\n",
        "n = 10\n",
        "for i in range(n): # 変数`i`には，0からnまでの数字が逐次代入される\n",
        "  print(i) # iの値を画面出力する．この行はインデント（行頭に半角スペースが2つある）されている\n",
        "\n",
        "print('終了')"
      ],
      "execution_count": 0,
      "outputs": [
        {
          "output_type": "stream",
          "text": [
            "0\n",
            "1\n",
            "2\n",
            "3\n",
            "4\n",
            "5\n",
            "6\n",
            "7\n",
            "8\n",
            "9\n",
            "終了\n"
          ],
          "name": "stdout"
        }
      ]
    },
    {
      "cell_type": "markdown",
      "metadata": {
        "id": "sFRVv1myjgvC",
        "colab_type": "text"
      },
      "source": [
        "上記のコードでは，`print(n)`の行がインデント（行の先頭に半角スペースが2個あること）されていることがわかる．for文は，直後のインデントされたコードのみを繰り返し実行する．そのため，最後の`print(終了)`は1度のみ実行されている．"
      ]
    },
    {
      "cell_type": "markdown",
      "metadata": {
        "id": "0jObG0wzUSq-",
        "colab_type": "text"
      },
      "source": [
        "# 関数\n",
        "\n",
        "プログラムでは，頻繁に実行する手続き・処理がある．このような処理を，いつでも使えるように部品のような形にまとめたものを`関数`という．\n",
        "\n",
        "関数の例として，これまで使ってきた`print(x)`がある．これは，入力された変数`x`の値を画面上に出力する関数で，Pythonに予め用意されている．このような関数を組み込み関数と呼ぶ．\n",
        "便利な組み込み関数として，\n",
        "- Numpy配列の長さを返す`len()`\n",
        "- Numpy配列の要素の平均を返す`np.mean()`\n",
        "- Numpy配列の要素の分散を返す`np.var()`\n",
        "などがある．"
      ]
    },
    {
      "cell_type": "code",
      "metadata": {
        "id": "m0bx1b2eqcBk",
        "colab_type": "code",
        "outputId": "f2b52df2-9087-4f70-b978-da88ea53757d",
        "colab": {
          "base_uri": "https://localhost:8080/",
          "height": 68
        }
      },
      "source": [
        "print(len(xs))\n",
        "print(np.mean(xs))\n",
        "print(np.var(xs))"
      ],
      "execution_count": 0,
      "outputs": [
        {
          "output_type": "stream",
          "text": [
            "5\n",
            "12.0\n",
            "136.0\n"
          ],
          "name": "stdout"
        }
      ]
    },
    {
      "cell_type": "markdown",
      "metadata": {
        "id": "_PZasB0rqYER",
        "colab_type": "text"
      },
      "source": [
        "\n",
        "Pythonでは，組み込み関数だけれはなく，ユーザが独自定義する関数も利用することができる．ここでは関数の定義と実行を行ってみよう．"
      ]
    },
    {
      "cell_type": "code",
      "metadata": {
        "id": "jJmZeXNLaEYm",
        "colab_type": "code",
        "colab": {}
      },
      "source": [
        "# 入力された配列の平均と分散を求める\n",
        "def ave_and_var(xs):\n",
        "  total = 0\n",
        "  for x in xs:\n",
        "    total += x\n",
        "  \n",
        "  return x_sum"
      ],
      "execution_count": 0,
      "outputs": []
    },
    {
      "cell_type": "code",
      "metadata": {
        "id": "RZijlHEPaY4w",
        "colab_type": "code",
        "outputId": "5f044e5a-f101-4898-c5ea-0456abd0c8f3",
        "colab": {
          "base_uri": "https://localhost:8080/",
          "height": 34
        }
      },
      "source": [
        "sum_all(xs)"
      ],
      "execution_count": 0,
      "outputs": [
        {
          "output_type": "execute_result",
          "data": {
            "text/plain": [
              "4.0"
            ]
          },
          "metadata": {
            "tags": []
          },
          "execution_count": 20
        }
      ]
    },
    {
      "cell_type": "markdown",
      "metadata": {
        "id": "P541lXDNlfbQ",
        "colab_type": "text"
      },
      "source": [
        "- 注意）ここで代入しているxsは，上のセルで定義済み\n"
      ]
    },
    {
      "cell_type": "code",
      "metadata": {
        "id": "4j4bpdhydGlw",
        "colab_type": "code",
        "outputId": "7c86ae6d-090a-4af5-f402-8b1409481816",
        "colab": {
          "base_uri": "https://localhost:8080/",
          "height": 34
        }
      },
      "source": [
        "# 定義した関数は，異なる入力に対しても\n",
        "ys = np.array([0, 10, 20, 30, 40])\n",
        "sum_all(ys)"
      ],
      "execution_count": 0,
      "outputs": [
        {
          "output_type": "execute_result",
          "data": {
            "text/plain": [
              "100"
            ]
          },
          "metadata": {
            "tags": []
          },
          "execution_count": 22
        }
      ]
    },
    {
      "cell_type": "markdown",
      "metadata": {
        "id": "rBtj358JU0eJ",
        "colab_type": "text"
      },
      "source": [
        "# plot "
      ]
    },
    {
      "cell_type": "code",
      "metadata": {
        "id": "DTWihjroEqyJ",
        "colab_type": "code",
        "colab": {}
      },
      "source": [
        "%matplotlib inline\n",
        "from matplotlib import pyplot as plt\n",
        "import numpy as np"
      ],
      "execution_count": 0,
      "outputs": []
    },
    {
      "cell_type": "code",
      "metadata": {
        "id": "YT7N7qMvEweY",
        "colab_type": "code",
        "outputId": "1467e45f-33e9-43a9-a220-cfffd50ccfa1",
        "colab": {
          "base_uri": "https://localhost:8080/",
          "height": 282
        }
      },
      "source": [
        "x = [0, 1, 2, 3, 4]  # \n",
        "y = [-1, 1, -1, 1, -1]\n",
        "plt.plot(x, y)"
      ],
      "execution_count": 0,
      "outputs": [
        {
          "output_type": "execute_result",
          "data": {
            "text/plain": [
              "[<matplotlib.lines.Line2D at 0x7f83b5c5a588>]"
            ]
          },
          "metadata": {
            "tags": []
          },
          "execution_count": 11
        },
        {
          "output_type": "display_data",
          "data": {
            "image/png": "[encoded data removed]",
            "text/plain": [
              "<Figure size 432x288 with 1 Axes>"
            ]
          },
          "metadata": {
            "tags": [],
            "needs_background": "light"
          }
        }
      ]
    },
    {
      "cell_type": "markdown",
      "metadata": {
        "id": "9GPrdTwAQ2HR",
        "colab_type": "text"
      },
      "source": [
        "# figureの保存"
      ]
    },
    {
      "cell_type": "code",
      "metadata": {
        "id": "2mN1GNE9Wm_6",
        "colab_type": "code",
        "colab": {}
      },
      "source": [
        "from google.colab import files\n",
        "\n",
        "plt.savefig('test.png')\n",
        "files.download('test.png')"
      ],
      "execution_count": 0,
      "outputs": []
    }
  ]
}