{
  "nbformat": 4,
  "nbformat_minor": 0,
  "metadata": {
    "colab": {
      "name": "exp_python1.ipynb",
      "provenance": [],
      "collapsed_sections": []
    },
    "kernelspec": {
      "name": "python3",
      "display_name": "Python 3"
    }
  },
  "cells": [
    {
      "cell_type": "markdown",
      "metadata": {
        "id": "zJXQZAmWYW8P",
        "colab_type": "text"
      },
      "source": [
        "# はじめに\n",
        "\n",
        "本実験では，PythonとGoogle Colaboratory（以下，Colab）を使用して，力学系の数値解析手法を学ぶ．PythonとColabの特徴は以下のとおり．\n",
        "\n",
        "- Pythonとは\n",
        "  - プログラミング言語の1つで，現在，広く利用されている．\n",
        "- Google Colaboratory（Colab）とは\n",
        "  - ブラウザ上で Python を記述して実行できるツール．\n",
        "    - 具体的には，まずブラウザで表示されるノートブック（今開いているこのページが1つのノートブックである）を作成し，そこにPythonコードの記述と実行を行う．\n",
        "    - Pythonコードの他に，テキストも入力できる\n",
        "    - 連続使用が12時間を超えるか，ノートブックを90分程度操作しないと，自動的に切断される．\n",
        "    - 上記の制約のため，ノートブックを細かく保存すること（保存方法は次に説明する）\n",
        "\n",
        "\n",
        "Colabの概要について説明している，[Google Colaboratory の開始方法 (日本語字幕あり)](https://www.youtube.com/watch?v=inN8seMm7UI)を視聴すること．"
      ]
    },
    {
      "cell_type": "markdown",
      "metadata": {
        "id": "CWReg0ZcFAcC",
        "colab_type": "text"
      },
      "source": [
        "# 実験の進め方\n",
        "\n",
        "本実験では，Colabのノートブックを使って進めていく．\n",
        "ノートブックは，複数のセルから構成されている．\n",
        "セルには，文字を入力するための`テキストセル`，Pythonのコードを入力するための`コードセル`がある．\n",
        "セルに書かれた説明を読み，コードを実行していくことで，内容の理解を深めてほしい．\n",
        "特に，\n",
        "<font color=\"red\">\n",
        "（TODO）\n",
        "</font>\n",
        "と書かれた指示は必ず実行すること．\n",
        "ノートブックの内容を順に理解していけば，最後のレポート課題が解けるはずだ．\n",
        "\n",
        "ノートブックには，各自がコードの追加や，実行ができる．プログラムを学ぶためにその動作を確認することは重要なので，積極的にコードを書き，実行してみること．\n",
        "\n",
        "その試行錯誤の過程でノートブックを壊滅的に壊してしまった場合でも，この初期状態から再開できる．その場合は，\n",
        "[実験のTopページ](https://github.com/yyamnk/numerical-methods-py3)\n",
        "からやり直すこと．\n"
      ]
    },
    {
      "cell_type": "markdown",
      "metadata": {
        "id": "8IBDc0QlFJB8",
        "colab_type": "text"
      },
      "source": [
        "次に，ノートブックの保存方法を説明する．\n",
        "現在，開いているノートブックは教科書用であり，編集や実行ができない状態である．そこで，次の手順で実験を進めること．\n",
        "\n",
        "1. [実験のTopページ](https://github.com/yyamnk/numerical-methods-py3)から，教科書用ノートブックを開く（今ここ）\n",
        "2. 下図のように，ブラウザの左上から`ファイル` -> `ドライブにコピーを保存`をクリックし，ノートブックを各自のGoogle Driveへ保存する．\n",
        "3. コピーしたノートブックを編集・実行しながら学習を進める．\n",
        "\n",
        "![図1 ノートブックの保存](https://docs.google.com/uc?export=download&id=1_0LtxmcJs4FmNjKKKNvr41qCNKNG4aoE)\n",
        "\n",
        "保存したコピーが開けたら，実験を始めよう．"
      ]
    },
    {
      "cell_type": "markdown",
      "metadata": {
        "id": "qjGqfnXvXG_K",
        "colab_type": "text"
      },
      "source": [
        "# 四則演算\n",
        "\n",
        "まず最初に，Pythonによる四則演算を学ぶ．\n",
        "Pythonコードの入力と実行は，次の手順で行う．\n",
        "\n",
        "1. ブラウザ左上にある「+ コード」をクリックして`コードセル`を追加\n",
        "2. 追加されたセルをクリックし，プログラムを記述\n",
        "3. セルの左端にある「▷（再生ボタン）」をクリックして，セルを実行する\n",
        "  - [方法がわからない場合は，ここを視聴せよ](https://youtu.be/inN8seMm7UI?t=27)\n",
        "\n",
        "ここでは，例として，既にPythonコードを入力したセルを用意した．このセルを実行してみよう．"
      ]
    },
    {
      "cell_type": "code",
      "metadata": {
        "id": "vT29vdIWvfkC",
        "colab_type": "code",
        "colab": {}
      },
      "source": [
        "# ここはコメント．Pythonは#記号以降の文字を無視する．\n",
        "\n",
        "1 + 5 # 和，このセルを実行すると，計算結果が出力される（初回の実行では多少の時間がかかる）"
      ],
      "execution_count": 0,
      "outputs": []
    },
    {
      "cell_type": "markdown",
      "metadata": {
        "id": "AjczMrEiKKMM",
        "colab_type": "text"
      },
      "source": [
        "セルを実行すると，結果が出力されたはずだ．"
      ]
    },
    {
      "cell_type": "markdown",
      "metadata": {
        "id": "BxUX2t8PINzR",
        "colab_type": "text"
      },
      "source": [
        "<font color=\"red\">\n",
        "（TODO）適当な2つの数の，差・積・商を計算するコードを作成し，実行せよ．ここでは，1つのセルに1つの四則演算のみとすること．また，手計算と比較して動作を確かめよ．\n",
        "</font>"
      ]
    },
    {
      "cell_type": "code",
      "metadata": {
        "id": "VztZtNDZ95sz",
        "colab_type": "code",
        "colab": {}
      },
      "source": [
        "# 差を計算するコード\n"
      ],
      "execution_count": 0,
      "outputs": []
    },
    {
      "cell_type": "code",
      "metadata": {
        "id": "bHUM1yMm98bH",
        "colab_type": "code",
        "colab": {}
      },
      "source": [
        "# 積を計算するコード\n"
      ],
      "execution_count": 0,
      "outputs": []
    },
    {
      "cell_type": "code",
      "metadata": {
        "id": "nmR8c80P-AtX",
        "colab_type": "code",
        "colab": {}
      },
      "source": [
        "# 商を計算するコード\n"
      ],
      "execution_count": 0,
      "outputs": []
    },
    {
      "cell_type": "markdown",
      "metadata": {
        "id": "3pWMxGGVXDYR",
        "colab_type": "text"
      },
      "source": [
        "# 変数\n",
        "\n",
        "Pythonでは，数値等を変数に代入できる．\n",
        "ここでは変数の定義・代入と，変数を使った計算をやってみよう．\n",
        "\n",
        "<font color=\"red\">\n",
        "（TODO）以下のセルを実行し，動作を確認せよ．\n",
        "</font>"
      ]
    },
    {
      "cell_type": "code",
      "metadata": {
        "id": "6GwKGXLxguCn",
        "colab_type": "code",
        "colab": {}
      },
      "source": [
        "x = 10 # `x`という変数を定義し，10を代入する．\n",
        "# 代入のみの場合，このセルを実行しても出力は無いが，内部で処理はされている．"
      ],
      "execution_count": 0,
      "outputs": []
    },
    {
      "cell_type": "markdown",
      "metadata": {
        "id": "0-WMfyDN5TGs",
        "colab_type": "text"
      },
      "source": [
        "このように定義した変数は，同一のnotebookでいつでも参照できる．"
      ]
    },
    {
      "cell_type": "code",
      "metadata": {
        "id": "iGLiA9rQc6_s",
        "colab_type": "code",
        "colab": {}
      },
      "source": [
        "x # 定義した変数の参照方法1: 変数のみを書く"
      ],
      "execution_count": 0,
      "outputs": []
    },
    {
      "cell_type": "code",
      "metadata": {
        "id": "8vSerwni5fWh",
        "colab_type": "code",
        "colab": {}
      },
      "source": [
        "print(x) # # 定義した変数の参照方法2: print()を用いる"
      ],
      "execution_count": 0,
      "outputs": []
    },
    {
      "cell_type": "markdown",
      "metadata": {
        "id": "KCOQsFS2LZCz",
        "colab_type": "text"
      },
      "source": [
        "<font color=\"red\">\n",
        "（TODO）次のセルを実行し，変数を用いた四則演算ができることを確かめよ\n",
        "</font>"
      ]
    },
    {
      "cell_type": "code",
      "metadata": {
        "id": "TDsLHUmThCJZ",
        "colab_type": "code",
        "colab": {}
      },
      "source": [
        "r = 5 # 新たな変数を定義\n",
        "pi = 3.14 # 新たな変数を定義, 変数名には複数の文字を使っても良い\n",
        "2 * r * pi # 変数を使って計算する．"
      ],
      "execution_count": 0,
      "outputs": []
    },
    {
      "cell_type": "markdown",
      "metadata": {
        "id": "_U2pE4c4iBpb",
        "colab_type": "text"
      },
      "source": [
        "# Numpy 配列\n",
        "\n",
        "プログラミングでは，複数の要素（値）の集合を管理したいことがある．これを実現するデータ構造を配列と呼ぶ．Pythonには，配列を実現する方法はいくつかあるが，本実験では，`Numpy 配列`を用いる．基本的な使い方は以下の通り．\n",
        "\n",
        "<font color=\"red\">\n",
        "（TODO）以下のセルを実行し，動作を確認せよ\n",
        "</font>"
      ]
    },
    {
      "cell_type": "code",
      "metadata": {
        "id": "2wMT0l0Kzp9r",
        "colab_type": "code",
        "colab": {}
      },
      "source": [
        "# Numpyを用いるためにライブラリを読み込む．\n",
        "import numpy as np  # これにより，以降のセルでは`np`と書くことでnumpyの機能が使える．"
      ],
      "execution_count": 0,
      "outputs": []
    },
    {
      "cell_type": "code",
      "metadata": {
        "id": "2Bm1OrsHN9RY",
        "colab_type": "code",
        "colab": {}
      },
      "source": [
        "# 次に，配列を定義する．\n",
        "xs = np.array([1, 2, 3, 3, 5]) # 要素は[]で指定する\n",
        "print(xs)"
      ],
      "execution_count": 0,
      "outputs": []
    },
    {
      "cell_type": "code",
      "metadata": {
        "id": "eYkMaUDEMwZh",
        "colab_type": "code",
        "colab": {}
      },
      "source": [
        "# 全ての要素がゼロの配列も定義できる．ここでは要素が5個の配列を定義する．\n",
        "xs = np.zeros(5)\n",
        "print(xs)"
      ],
      "execution_count": 0,
      "outputs": []
    },
    {
      "cell_type": "code",
      "metadata": {
        "id": "W2cEHijoz9zu",
        "colab_type": "code",
        "colab": {}
      },
      "source": [
        "# 定義したNumpy配列へ値を代入する\n",
        "# 代入するときは，0からはじまる配列の要素番号を指定し，`=`で値を代入する\n",
        "xs[0] = 10 # 配列の先頭に代入\n",
        "xs[1] = 20 # 2番目の要素に代入\n",
        "xs[2] = 30 # 3番目の要素に代入\n",
        "print(xs)"
      ],
      "execution_count": 0,
      "outputs": []
    },
    {
      "cell_type": "code",
      "metadata": {
        "id": "eMbk5Jn4PFy_",
        "colab_type": "code",
        "colab": {}
      },
      "source": [
        "# 配列の値の呼び出し\n",
        "# 配列の要素を呼び出したい場合は，`配列名[要素番号]`とする\n",
        "print(xs[2])"
      ],
      "execution_count": 0,
      "outputs": []
    },
    {
      "cell_type": "markdown",
      "metadata": {
        "id": "uu8mpruxhxV6",
        "colab_type": "text"
      },
      "source": [
        "数値計算でよく用いるのは，初期値，値の刻み幅，最終値から配列を作成することだ．これは，次のように記述できる．"
      ]
    },
    {
      "cell_type": "code",
      "metadata": {
        "id": "tHwjz-rkiOaQ",
        "colab_type": "code",
        "colab": {}
      },
      "source": [
        "ts = np.arange(start=10, stop=15, step=0.5) # 初期値10, 終了値15, 刻み幅0.5の数列を定義する\n",
        "print(ts)"
      ],
      "execution_count": 0,
      "outputs": []
    },
    {
      "cell_type": "markdown",
      "metadata": {
        "id": "0jObG0wzUSq-",
        "colab_type": "text"
      },
      "source": [
        "# 関数\n",
        "\n",
        "プログラムでは，頻繁に実行する手続き・処理がある．このような処理を，いつでも使えるように部品のような形にまとめたものを`関数`という．\n",
        "\n",
        "関数の例として，これまで使ってきた`print(x)`がある．これは，入力された変数`x`の値を画面上に出力する関数で，Pythonに予め用意されている．このような関数を組み込み関数と呼ぶ．\n",
        "便利な組み込み関数として，\n",
        "- 配列の長さを返す`len()`\n",
        "- Numpy配列の要素の平均を返す`np.mean()`\n",
        "などがある．\n",
        "\n",
        "<font color=\"red\">\n",
        "（TODO）以下のセルを実行し，動作を確認せよ\n",
        "</font>"
      ]
    },
    {
      "cell_type": "code",
      "metadata": {
        "id": "m0bx1b2eqcBk",
        "colab_type": "code",
        "colab": {}
      },
      "source": [
        "print(len(xs)) # xsは既に上のセルで代入済みであることに注意\n",
        "print(np.mean(xs))"
      ],
      "execution_count": 0,
      "outputs": []
    },
    {
      "cell_type": "markdown",
      "metadata": {
        "id": "_PZasB0rqYER",
        "colab_type": "text"
      },
      "source": [
        "\n",
        "Pythonでは，組み込み関数だけれはなく，ユーザが独自定義する関数も利用することができる．ここでは関数の定義と実行を行ってみよう．\n",
        "\n",
        "変数$x$から次の$y$を算出する関数を考える．\n",
        "$$\n",
        "y = ax + b\n",
        "$$\n",
        "ここで，$a=10$, $b=3$とすると，Pythonコードは次のようになる．\n",
        "\n",
        "<font color=\"red\">\n",
        "（TODO）以下のセルを実行し，動作を確認せよ\n",
        "</font>"
      ]
    },
    {
      "cell_type": "code",
      "metadata": {
        "id": "jJmZeXNLaEYm",
        "colab_type": "code",
        "colab": {}
      },
      "source": [
        "# 関数の定義\n",
        "def myfunc(x): # 関数の定義は，def 関数名（入力変数）: で行う．\n",
        "  a = 5 # 関数の処理を示すコードは，`for`などと同様にインデントする．\n",
        "  b = 3\n",
        "  y = a * x + b\n",
        "  return y # 関数に出力がある場合は，出力する値や変数をreturnで書く"
      ],
      "execution_count": 0,
      "outputs": []
    },
    {
      "cell_type": "code",
      "metadata": {
        "id": "RZijlHEPaY4w",
        "colab_type": "code",
        "colab": {}
      },
      "source": [
        "# 関数の実行\n",
        "y = myfunc(5)\n",
        "print(y)"
      ],
      "execution_count": 0,
      "outputs": []
    },
    {
      "cell_type": "markdown",
      "metadata": {
        "id": "P541lXDNlfbQ",
        "colab_type": "text"
      },
      "source": [
        "<font color=\"red\">\n",
        "（TODO）以下のセルを実行し，定義した関数に別の入力変数を与えて，動作を確認せよ．\n",
        "</font>\n"
      ]
    },
    {
      "cell_type": "code",
      "metadata": {
        "id": "4j4bpdhydGlw",
        "colab_type": "code",
        "colab": {}
      },
      "source": [
        "print('x=10 のとき')\n",
        "print(myfunc(10))\n",
        "\n",
        "print('x=20 のとき')\n",
        "print(myfunc(20))"
      ],
      "execution_count": 0,
      "outputs": []
    },
    {
      "cell_type": "markdown",
      "metadata": {
        "id": "pUSRi1JVhh-B",
        "colab_type": "text"
      },
      "source": [
        "# for文\n",
        "\n",
        "ある処理を繰り返すとき，for文を用いる．\n",
        "\n",
        "例えば，「0から`n`まで，1刻みの数字を表示する」という処理を考えよう．\n",
        "このとき，\n",
        "```\n",
        "print(0)\n",
        "print(1)\n",
        "...(略)...\n",
        "print(n)\n",
        "```\n",
        "と書くのは大変だが，for文を使えば以下のように書ける．\n",
        "\n",
        "<font color=\"red\">\n",
        "（TODO）以下のセルを実行し，動作を確認せよ\n",
        "</font>"
      ]
    },
    {
      "cell_type": "code",
      "metadata": {
        "id": "mR4Dvrfhh5ck",
        "colab_type": "code",
        "colab": {}
      },
      "source": [
        "# 0からnまでの数字を表示するプログラム\n",
        "n = 10\n",
        "for i in range(0, n + 1): # 変数`i`には，0からnまでの数字が逐次代入される．\n",
        "  print(i) # iの値を画面出力する．この行はインデント（行頭に半角スペースが2つある）されている\n",
        "\n",
        "print('終了') # この行はインデントされていないので，for文には含まれない．"
      ],
      "execution_count": 0,
      "outputs": []
    },
    {
      "cell_type": "markdown",
      "metadata": {
        "id": "sFRVv1myjgvC",
        "colab_type": "text"
      },
      "source": [
        "上記のコードでは，`print(n)`の行がインデント（行の先頭に半角スペースが2個あること）されていることがわかる．for文は，直後のインデントされたコードのみを繰り返し実行する．そのため，最後の`print(終了)`は1度のみ実行されている．"
      ]
    },
    {
      "cell_type": "markdown",
      "metadata": {
        "id": "rBtj358JU0eJ",
        "colab_type": "text"
      },
      "source": [
        "# グラフの作成\n",
        "\n",
        "数値計算の結果をグラフに描写することができる．\n",
        "\n",
        "<font color=\"red\">\n",
        "（TODO）以下のセルを実行し，動作を確認せよ\n",
        "</font>"
      ]
    },
    {
      "cell_type": "code",
      "metadata": {
        "id": "DTWihjroEqyJ",
        "colab_type": "code",
        "colab": {}
      },
      "source": [
        "from matplotlib import pyplot as plt # グラフ描写に用いるpyplotというライブラリを読み込む\n",
        "# 以降，`plt`と書くことで利用できる．"
      ],
      "execution_count": 0,
      "outputs": []
    },
    {
      "cell_type": "code",
      "metadata": {
        "id": "YT7N7qMvEweY",
        "colab_type": "code",
        "colab": {}
      },
      "source": [
        "xs = np.array([0, 1, 2, 3, 4]) # x軸となるnumpy配列\n",
        "ys = np.array([-1, 1, -1, 1, -1]) # y軸となるnumpy配列\n",
        "plt.plot(xs, ys) # plt.plot()は，最初の引数がx軸，2番目の引数がy軸となるようにグラフを作成する．"
      ],
      "execution_count": 0,
      "outputs": []
    },
    {
      "cell_type": "code",
      "metadata": {
        "id": "o2Pd5aIsSagv",
        "colab_type": "code",
        "colab": {}
      },
      "source": [
        "# どの変数をx軸，y軸に割り当てるかは，変数を書く順番による．\n",
        "# x軸にys, y軸にxsをplotするには，次のようにする．\n",
        "plt.plot(ys, xs)"
      ],
      "execution_count": 0,
      "outputs": []
    },
    {
      "cell_type": "code",
      "metadata": {
        "id": "zDQhSnIPTvZS",
        "colab_type": "code",
        "colab": {}
      },
      "source": [
        "# 複数のグラフを同時に描写する\n",
        "plt.plot(xs, ys, 'r-') # '-r'はオプションで，plot xs and ys using red line を意味する．\n",
        "plt.plot(xs, 2 * ys, 'g:') # plot using green dot line\n",
        "plt.plot(xs, 3 * ys, 'b.') # plot using blue dots"
      ],
      "execution_count": 0,
      "outputs": []
    },
    {
      "cell_type": "markdown",
      "metadata": {
        "id": "p1I9sotVNbbx",
        "colab_type": "text"
      },
      "source": [
        "# まとめ\n",
        "\n",
        "このノートブックでは，PythonとColabの基本的な使い方を学んだ．これらの内容は本実験をこなすための内容であり，機能のごく一部にしかすぎない．詳細は入門書等を参照すること．\n",
        "\n",
        "このノートブックの内容を一通り理解したら，[実験のTopページ](https://github.com/yyamnk/numerical-methods-py3) に戻り，次のノートブックで学習すること．"
      ]
    }
  ]
}