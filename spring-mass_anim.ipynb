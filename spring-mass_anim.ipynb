{
 "cells": [
  {
   "cell_type": "code",
   "execution_count": 1,
   "metadata": {
    "id": "vVlMqJfL8qvb"
   },
   "outputs": [],
   "source": [
    "import matplotlib.pyplot as plt\n",
    "import numpy as np\n",
    "from numpy import sin, cos, pi\n",
    "from matplotlib.animation import FuncAnimation\n",
    "from scipy.integrate import odeint\n",
    "from matplotlib import animation, rc\n",
    "from IPython.display import HTML\n",
    "from PIL import Image"
   ]
  },
  {
   "cell_type": "code",
   "execution_count": 2,
   "metadata": {
    "id": "c7RHx-7_B8I4"
   },
   "outputs": [],
   "source": [
    "# 関数定義\n",
    "def f(x, v):\n",
    "  f=(-k/m)*x-(c/m)*v\n",
    "  return f \n",
    "\n",
    "# 変数の定義\n",
    "x = 1.0 # xの初期値\n",
    "v = 0 # yの初期値\n",
    "t_ini = 0 # 初期時刻\n",
    "t_max = 200 # 終了時刻\n",
    "h = 0.2 # 積分刻み\n",
    "\n",
    "m=5.0        #台車質量\n",
    "k=1.0        #ばね定数\n",
    "c=0.3      #粘性係数\n",
    "\n",
    "# 結果保存用の配列定義\n",
    "ts = np.arange(start=t_ini, stop=t_max, step=h) # tの時系列\n",
    "xs = np.zeros(len(ts)) # xの時系列\n",
    "vs = np.zeros(len(ts)) # yの時系列\n",
    "#print(len(ts))\n",
    "# 初期値の代入\n",
    "xs[0] = x\n",
    "vs[0] = v\n",
    "#ルンゲクッタ法\n",
    "for j in range(1, len(ts)): # i=1 から i=len(ts) までループ\n",
    "  kx1 = v\n",
    "  kv1 = f(x, v)\n",
    "  kx2 = v + h * kv1 / 2.0\n",
    "  kv2 = f(x + h * kx1 / 2.0, v + h * kv1 / 2.0)\n",
    "  kx3 = v + h * kv2 / 2.0\n",
    "  kv3 = f(x + h * kx2 / 2.0, v + h * kv2 / 2.0)\n",
    "  kx4 = v + h * kv3\n",
    "  kv4 = f(x + h * kx3, v + h * kv3)\n",
    "  # v, xの更新\n",
    "  v += (kv1 + 2.0 * kv2 + 2.0 * kv3 + kv4) * h / 6.0\n",
    "  x += (kx1 + 2.0 * kx2 + 2.0 * kx3 + kx4) * h / 6.0\n",
    "  # 結果の保存\n",
    "  xs[j] = x \n",
    "  vs[j] = v\n",
    "\n"
   ]
  },
  {
   "cell_type": "code",
   "execution_count": null,
   "metadata": {
    "id": "BkyOAtmZLDmx"
   },
   "outputs": [],
   "source": []
  },
  {
   "cell_type": "code",
   "execution_count": null,
   "metadata": {
    "colab": {
     "background_save": true
    },
    "id": "Q3NSO6WYExx6",
    "outputId": "14fd7f48-848d-4ad6-a3f8-bcee0aa966d2"
   },
   "outputs": [],
   "source": [
    "fig = plt.figure()\n",
    "L=1\n",
    "ax = fig.add_subplot(111, aspect='equal', autoscale_on=False, xlim=(-L, L), ylim=(-L, L))\n",
    "ax.grid()\n",
    "DURATION = [0.2]    # [s]     duration time\n",
    "INTERVAL = 0.05  # [s]     interval time\n",
    "t = np.arange(DURATION[0], DURATION[-1], INTERVAL)\n",
    "\n",
    "#点と点を結ぶ\n",
    "line, = plt.plot([], [], 'b',animated = True)#marker='s',markersize = 20, animated = True)#両端のマーカー、端にオブジェクトを置くと、、、\n",
    "daisya_img, =  ax.plot([], [], 'C2s',ms=15)\n",
    "\n",
    "time_template = 'time = %.1fs'\n",
    "time_text = ax.text(0.05, 0.9, '', transform=ax.transAxes)\n",
    "\n",
    "#def init():\n",
    "#    time_text.set_text('')\n",
    "#    #return line, time_text\n",
    "#    return  time_text\n",
    "\n",
    "def update(i):\n",
    "    next_x = [0, xs[i]]\n",
    "    line.set_data(next_x, 0)\n",
    "    daisya_x = [xs[i],xs[i]]\n",
    "    daisya_img.set_data(daisya_x, 0)\n",
    "\n",
    "    time_text.set_text(time_template % (i*INTERVAL))\n",
    "    return line, time_text,daisya_img\n",
    "\n",
    "\n",
    "FRAME_INTERVAL = 25 # [msec] interval between frames\n",
    "FPS = 20 # frames per second\n",
    "\n",
    "ani = FuncAnimation(fig, update, frames=1000,\n",
    "                    interval=FRAME_INTERVAL, blit=True)#, init_func=init)\n",
    "rc('animation', html='jshtml')\n",
    "plt.close()\n",
    "ani"
   ]
  },
  {
   "cell_type": "code",
   "execution_count": null,
   "metadata": {
    "id": "yWzW0S1K6A-K"
   },
   "outputs": [],
   "source": [
    "#バネをつけようとしたが失敗\n",
    "import numpy as np\n",
    "import matplotlib.pyplot as plt\n",
    "import matplotlib.animation as animation\n",
    "\n",
    "BANE_div = 40 # バネのギザギザ数\n",
    "BANE_length = 5 # 伸縮中間のバネ長さ：x方向\n",
    "BANE_diameater = 0.2# バネの径（山）：y方向\n",
    "BANE_raito = 0.5 # バネの伸縮度合い\n",
    "\n",
    "y = np.zeros(BANE_div)\n",
    "y[::2] = BANE_diameater # ギザギザの山部\n",
    "\n",
    "# バネ長さの増減量\n",
    "def get_add_length(bane_phase):\n",
    "    return BANE_length * bane_phase#* BANE_raito \n",
    "\n",
    "# グラフオブジェクト作成\n",
    "fig, ax = plt.subplots(figsize=(8,3))\n",
    "fig.patch.set_alpha(1.0) # figure不透明\n",
    "\n",
    "ax.set_xlim(-1, BANE_length*2)\n",
    "ax.set_ylim(-1, BANE_diameater*1.5)\n",
    "\n",
    "add_length = get_add_length(0)\n",
    "x = np.linspace(0, BANE_length + add_length, BANE_div)\n",
    "bane_plot, = ax.plot(x, y, linewidth=2, c=\"blue\", alpha=0.7) # バネをプロット（左辺の末カンマはunpack）\n",
    "daisya_img, =  ax.plot([], [], 'C2s',ms=15)\n",
    "\n",
    "time_template = 'time = %.1fs'\n",
    "time_text = ax.text(0.05, 0.9, '', transform=ax.transAxes)\n",
    "\n",
    "\n",
    "# アニメーション初期化\n",
    "def init():\n",
    "    # initialize :nothing\n",
    "    return fig,\n",
    "\n",
    "# アニメーション更新関数\n",
    "def animate(i):\n",
    "    bane_phase = xs[i] # -1 ～ 1(正弦波でバネの伸び縮みに対応)\n",
    "    add_length = get_add_length(bane_phase) # バネ長さ増減量の計算 \n",
    "    x = np.linspace(0, BANE_length + add_length, BANE_div) # x軸データを再計算\n",
    "    bane_plot.set_xdata(x) # バネのx軸データを再設定\n",
    "    daisya_x = [5+xs[i]]\n",
    "    daisya_img.set_data(daisya_x, 0)\n",
    "\n",
    "    time_text.set_text(time_template % (i*INTERVAL))\n",
    "    return fig,\n",
    "\n",
    "frames = 1000 # アニメーションのフレーム数\n",
    "\n",
    "# アニメーション実行\n",
    "ani = animation.FuncAnimation(fig, animate, init_func=init,\n",
    "                               frames=frames, interval=10, blit=True)\n",
    "\n",
    "# plt.show()"
   ]
  },
  {
   "cell_type": "code",
   "execution_count": null,
   "metadata": {
    "id": "fQFnLTmf5_xI"
   },
   "outputs": [],
   "source": []
  },
  {
   "cell_type": "code",
   "execution_count": null,
   "metadata": {
    "id": "br7kOlt65_yr"
   },
   "outputs": [],
   "source": []
  },
  {
   "cell_type": "code",
   "execution_count": null,
   "metadata": {
    "id": "V6lh7BoLJ-d4"
   },
   "outputs": [],
   "source": []
  },
  {
   "cell_type": "markdown",
   "metadata": {
    "id": "QmxRcp1vBXl_"
   },
   "source": []
  }
 ],
 "metadata": {
  "colab": {
   "collapsed_sections": [],
   "name": "バネマスanim.ipynb",
   "provenance": []
  },
  "kernelspec": {
   "display_name": "Python 3",
   "language": "python",
   "name": "python3"
  },
  "language_info": {
   "codemirror_mode": {
    "name": "ipython",
    "version": 3
   },
   "file_extension": ".py",
   "mimetype": "text/x-python",
   "name": "python",
   "nbconvert_exporter": "python",
   "pygments_lexer": "ipython3",
   "version": "3.7.9"
  }
 },
 "nbformat": 4,
 "nbformat_minor": 1
}
